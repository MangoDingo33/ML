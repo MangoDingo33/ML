{
  "nbformat": 4,
  "nbformat_minor": 0,
  "metadata": {
    "colab": {
      "provenance": [],
      "authorship_tag": "ABX9TyMXMSRxGyFRn6898duGienT",
      "include_colab_link": true
    },
    "kernelspec": {
      "name": "python3",
      "display_name": "Python 3"
    },
    "language_info": {
      "name": "python"
    }
  },
  "cells": [
    {
      "cell_type": "markdown",
      "metadata": {
        "id": "view-in-github",
        "colab_type": "text"
      },
      "source": [
        "<a href=\"https://colab.research.google.com/github/MangoDingo33/ML/blob/main/%EA%B3%BC%EC%A0%9C_1.ipynb\" target=\"_parent\"><img src=\"https://colab.research.google.com/assets/colab-badge.svg\" alt=\"Open In Colab\"/></a>"
      ]
    },
    {
      "cell_type": "markdown",
      "source": [
        "### 데이터 최적화\n",
        "### 최근접, 회귀, 경사하강 회귀로 분석"
      ],
      "metadata": {
        "id": "cJ4m3xx0niwb"
      }
    },
    {
      "cell_type": "code",
      "execution_count": 54,
      "metadata": {
        "id": "6dAoEXqbd4fv"
      },
      "outputs": [],
      "source": [
        "import pandas as pd\n",
        "from sklearn.datasets import load_iris\n",
        "from sklearn.model_selection import train_test_split\n",
        "from sklearn.preprocessing import StandardScaler\n",
        "\n",
        "iris = load_iris()\n",
        "df = pd.DataFrame(data=iris.data, columns=iris.feature_names)\n",
        "target = iris.target\n"
      ]
    },
    {
      "cell_type": "code",
      "source": [
        "print(df.isna().sum())\n",
        "print(df)"
      ],
      "metadata": {
        "colab": {
          "base_uri": "https://localhost:8080/"
        },
        "id": "Bc7mHG1lguDZ",
        "outputId": "6cf1d454-a7a3-4f4c-83ce-c3f2f2405016"
      },
      "execution_count": 55,
      "outputs": [
        {
          "output_type": "stream",
          "name": "stdout",
          "text": [
            "sepal length (cm)    0\n",
            "sepal width (cm)     0\n",
            "petal length (cm)    0\n",
            "petal width (cm)     0\n",
            "dtype: int64\n",
            "     sepal length (cm)  sepal width (cm)  petal length (cm)  petal width (cm)\n",
            "0                  5.1               3.5                1.4               0.2\n",
            "1                  4.9               3.0                1.4               0.2\n",
            "2                  4.7               3.2                1.3               0.2\n",
            "3                  4.6               3.1                1.5               0.2\n",
            "4                  5.0               3.6                1.4               0.2\n",
            "..                 ...               ...                ...               ...\n",
            "145                6.7               3.0                5.2               2.3\n",
            "146                6.3               2.5                5.0               1.9\n",
            "147                6.5               3.0                5.2               2.0\n",
            "148                6.2               3.4                5.4               2.3\n",
            "149                5.9               3.0                5.1               1.8\n",
            "\n",
            "[150 rows x 4 columns]\n"
          ]
        }
      ]
    },
    {
      "cell_type": "code",
      "source": [
        "x_train, x_test, y_train, y_test = train_test_split(x, y, test_size=0.2, random_state=42)\n",
        "\n",
        "#petal width 예측\n",
        "\n",
        "x = df.drop(['petal width (cm)'], axis=1)\n",
        "y = df['petal width (cm)']\n"
      ],
      "metadata": {
        "id": "S7C0h23jd8Qd"
      },
      "execution_count": 56,
      "outputs": []
    },
    {
      "cell_type": "code",
      "source": [
        "mean = x_train.mean(axis=0)\n",
        "x_train -= mean\n",
        "std = x_train.std(axis=0)\n",
        "x_train /= std\n",
        "x_test -= mean\n",
        "x_test /= std"
      ],
      "metadata": {
        "id": "B4m3wBEMjgkm"
      },
      "execution_count": 57,
      "outputs": []
    },
    {
      "cell_type": "code",
      "source": [
        "#최근접 이웃 회귀\n",
        "from sklearn.neighbors import KNeighborsRegressor\n",
        "from sklearn.metrics import mean_absolute_error\n",
        "\n",
        "knr = KNeighborsRegressor()\n",
        "\n",
        "knr.fit(x_train, y_train)\n",
        "\n",
        "y_pred = knr.predict(x_test)\n",
        "mae_knr = mean_absolute_error(y_test, y_pred)\n",
        "print(f'최근접 이웃 회귀 모델 MSE: {mae_knr}')\n"
      ],
      "metadata": {
        "colab": {
          "base_uri": "https://localhost:8080/"
        },
        "id": "91u23n-whrGQ",
        "outputId": "752310e9-8434-4efe-ab05-07b308de399d"
      },
      "execution_count": 58,
      "outputs": [
        {
          "output_type": "stream",
          "name": "stdout",
          "text": [
            "최근접 이웃 회귀 모델 MSE: 0.15466666666666662\n"
          ]
        }
      ]
    },
    {
      "cell_type": "code",
      "source": [
        "#선형 회귀\n",
        "\n",
        "from sklearn.linear_model import LinearRegression\n",
        "\n",
        "lr = LinearRegression()\n",
        "lr.fit(x_train, y_train)\n",
        "\n",
        "y_pred = lr.predict(x_test)\n",
        "mse_lr = mean_squared_error(y_test, y_pred)\n",
        "print(f'선형 회귀 모델 MSE: {mse_lr}')\n"
      ],
      "metadata": {
        "colab": {
          "base_uri": "https://localhost:8080/"
        },
        "id": "6qMGee2CeDxO",
        "outputId": "cf3edb2d-7945-4d32-c3dd-eacc62711ad5"
      },
      "execution_count": 59,
      "outputs": [
        {
          "output_type": "stream",
          "name": "stdout",
          "text": [
            "선형 회귀 모델 MSE: 0.046332603325764415\n"
          ]
        }
      ]
    },
    {
      "cell_type": "code",
      "source": [
        "#경사 하강법\n",
        "\n",
        "from sklearn.linear_model import SGDRegressor\n",
        "\n",
        "sgd = SGDRegressor(max_iter=100, alpha=0.01, random_state=42)\n",
        "sgd.fit(x_train, y_train)\n",
        "\n",
        "y_pred = sgd.predict(x_train)\n",
        "mse_sgd = mean_squared_error(y_train, y_pred)\n",
        "print(f'경사 하강법 회귀 모델 MSE: {mse_sgd}')\n"
      ],
      "metadata": {
        "colab": {
          "base_uri": "https://localhost:8080/"
        },
        "id": "kLTG0nrzeH_m",
        "outputId": "330d55ef-6680-492a-916e-dce4100517f8"
      },
      "execution_count": 60,
      "outputs": [
        {
          "output_type": "stream",
          "name": "stdout",
          "text": [
            "경사 하강법 회귀 모델 MSE: 0.061467749211028225\n"
          ]
        }
      ]
    }
  ]
}